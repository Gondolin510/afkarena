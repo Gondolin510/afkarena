{
  "nbformat": 4,
  "nbformat_minor": 0,
  "metadata": {
    "colab": {
      "name": "Bounty Board - AFK Arena",
      "provenance": [],
      "collapsed_sections": []
    },
    "kernelspec": {
      "name": "python3",
      "display_name": "Python 3"
    }
  },
  "cells": [
    {
      "cell_type": "code",
      "metadata": {
        "id": "5--vixYTiHE4"
      },
      "source": [
        "import numpy as np\n",
        "import pandas as pd\n",
        "from tqdm import tqdm\n",
        "import matplotlib.pyplot as plt"
      ],
      "execution_count": 1,
      "outputs": []
    },
    {
      "cell_type": "code",
      "metadata": {
        "colab": {
          "base_uri": "https://localhost:8080/"
        },
        "id": "npjHuywvepGx",
        "outputId": "30139531-d44c-4548-d7aa-972832c20b30"
      },
      "source": [
        "REROLL_COST = 50.0\n",
        "dust_value = 0.2568   # 0.26 or 0.29\n",
        "gold_value = 1000 / 17505  # 0.035 or 0.043\n",
        "blue_value = 2.6  # 2.6 for high value (to have same value as L dust), 0 for low value\n",
        "MULTIPLE = 2  # Change to 2 for double Bounty\n",
        "drop_table = {\n",
        "    \"DustL\": {\n",
        "        \"Quantity\": 150,\n",
        "        \"Value\": dust_value,\n",
        "        \"p\": 0.3375,\n",
        "    },\n",
        "    \"DustM\": {\n",
        "        \"Quantity\": 500,\n",
        "        \"Value\": dust_value,\n",
        "        \"p\": 0.03,\n",
        "    },\n",
        "    \"DustA\": {\n",
        "        \"Quantity\": 800,\n",
        "        \"Value\": dust_value,\n",
        "        \"p\": 0.0075,\n",
        "    },\n",
        "    \"GoldL\": {\n",
        "        \"Quantity\": 173,\n",
        "        \"Value\": gold_value,\n",
        "        \"p\": 0.3375,\n",
        "    },\n",
        "    \"GoldM\": {\n",
        "        \"Quantity\": 246,\n",
        "        \"Value\": gold_value,\n",
        "        \"p\": 0.03,\n",
        "    },\n",
        "    \"GoldA\": {\n",
        "        \"Quantity\": 321,\n",
        "        \"Value\": gold_value,\n",
        "        \"p\": 0.0075,\n",
        "    },\n",
        "    \"BlueL\": {\n",
        "        \"Quantity\": 15,\n",
        "        \"Value\": blue_value,\n",
        "        \"p\": 0.1125,\n",
        "    },\n",
        "    \"BlueM\": {\n",
        "        \"Quantity\": 25,\n",
        "        \"Value\": blue_value,\n",
        "        \"p\": 0.01,\n",
        "    },\n",
        "    \"BlueA\": {\n",
        "        \"Quantity\": 40,\n",
        "        \"Value\": blue_value,\n",
        "        \"p\": 0.0025,\n",
        "    },\n",
        "    \"DiamondL\": {\n",
        "        \"Quantity\": 60,\n",
        "        \"Value\": 1,\n",
        "        \"p\": 0.1125,\n",
        "    },\n",
        "    \"DiamondM\": {\n",
        "        \"Quantity\": 100,\n",
        "        \"Value\": 1,\n",
        "        \"p\": 0.01,\n",
        "    },\n",
        "    \"DiamondA\": {\n",
        "        \"Quantity\": 150,\n",
        "        \"Value\": 1,\n",
        "        \"p\": 0.0025,\n",
        "    }\n",
        "}\n",
        "N = len(drop_table)\n",
        "drop_df = pd.DataFrame.from_dict(drop_table, orient='index')\n",
        "drop_df.Quantity *= MULTIPLE\n",
        "drop_df['TotalValue'] = drop_df.Value * drop_df.Quantity\n",
        "print(drop_df)\n",
        "SINGLE_EV = np.sum(drop_df.TotalValue * drop_df.p)"
      ],
      "execution_count": 2,
      "outputs": [
        {
          "output_type": "stream",
          "text": [
            "          Quantity     Value       p  TotalValue\n",
            "DustL          300  0.256800  0.3375   77.040000\n",
            "DustM         1000  0.256800  0.0300  256.800000\n",
            "DustA         1600  0.256800  0.0075  410.880000\n",
            "GoldL          346  0.057127  0.3375   19.765781\n",
            "GoldM          492  0.057127  0.0300   28.106255\n",
            "GoldA          642  0.057127  0.0075   36.675236\n",
            "BlueL           30  2.600000  0.1125   78.000000\n",
            "BlueM           50  2.600000  0.0100  130.000000\n",
            "BlueA           80  2.600000  0.0025  208.000000\n",
            "DiamondL       120  1.000000  0.1125  120.000000\n",
            "DiamondM       200  1.000000  0.0100  200.000000\n",
            "DiamondA       300  1.000000  0.0025  300.000000\n"
          ],
          "name": "stdout"
        }
      ]
    },
    {
      "cell_type": "code",
      "metadata": {
        "id": "AIbu5skGp2uB"
      },
      "source": [
        "magic_number_dict = {1: np.array([44.00601, 42.62974, 41.21228, 39.85913, 38.65864, 37.80118, 37.03364, 36.33974, 35.80604, 35.7104]),\n",
        "                     2: np.array([111.87832, 108.88099, 105.49544, 101.62087, 97.28789, 92.36578, 87.08076, 81.40006, 75.58795, 71.4208])}"
      ],
      "execution_count": 3,
      "outputs": []
    },
    {
      "cell_type": "code",
      "metadata": {
        "id": "M6d6o0S_i2Bn",
        "colab": {
          "base_uri": "https://localhost:8080/"
        },
        "outputId": "5dc280f9-b5dc-470b-8607-b825fa269080"
      },
      "source": [
        "def roll(quest_slot):\n",
        "  return np.random.choice(N, quest_slot, p=drop_df.p)\n",
        "\n",
        "test_roll = roll(quest_slot=8)\n",
        "test_roll"
      ],
      "execution_count": 4,
      "outputs": [
        {
          "output_type": "execute_result",
          "data": {
            "text/plain": [
              "array([0, 3, 3, 3, 3, 3, 3, 0])"
            ]
          },
          "metadata": {
            "tags": []
          },
          "execution_count": 4
        }
      ]
    },
    {
      "cell_type": "code",
      "metadata": {
        "id": "toWd-Xhuizxv",
        "colab": {
          "base_uri": "https://localhost:8080/"
        },
        "outputId": "5173f2c6-d14b-4b59-e966-2e14660ed9fa"
      },
      "source": [
        "def calculate_value(choices_array):\n",
        "  return np.sum(drop_df.TotalValue[choices_array])\n",
        "\n",
        "calculate_value(test_roll)"
      ],
      "execution_count": 5,
      "outputs": [
        {
          "output_type": "execute_result",
          "data": {
            "text/plain": [
              "272.67468723221936"
            ]
          },
          "metadata": {
            "tags": []
          },
          "execution_count": 5
        }
      ]
    },
    {
      "cell_type": "code",
      "metadata": {
        "colab": {
          "base_uri": "https://localhost:8080/"
        },
        "id": "Oc12lXMFibH7",
        "outputId": "f0939c45-9d1d-440b-dd04-d85e897665a8"
      },
      "source": [
        "def quests_to_values(quests_matrix):\n",
        "  old_shape = quests_matrix.shape\n",
        "  return drop_df.TotalValue[quests_matrix.flatten()].to_numpy().reshape(old_shape)\n",
        "\n",
        "quests_to_values(roll((5, 10)))"
      ],
      "execution_count": 6,
      "outputs": [
        {
          "output_type": "execute_result",
          "data": {
            "text/plain": [
              "array([[120.        ,  19.76578121,  19.76578121,  78.        ,\n",
              "         77.04      ,  28.10625536, 120.        ,  78.        ,\n",
              "         77.04      , 256.8       ],\n",
              "       [ 19.76578121,  77.04      , 256.8       ,  77.04      ,\n",
              "         77.04      ,  77.04      , 120.        ,  77.04      ,\n",
              "         77.04      ,  28.10625536],\n",
              "       [120.        ,  77.04      ,  78.        ,  19.76578121,\n",
              "         77.04      ,  77.04      , 120.        ,  19.76578121,\n",
              "         19.76578121, 120.        ],\n",
              "       [ 77.04      ,  78.        ,  19.76578121,  78.        ,\n",
              "         19.76578121,  77.04      ,  19.76578121, 256.8       ,\n",
              "         19.76578121,  19.76578121],\n",
              "       [ 77.04      ,  19.76578121,  78.        ,  77.04      ,\n",
              "         19.76578121,  77.04      ,  78.        ,  77.04      ,\n",
              "         77.04      , 120.        ]])"
            ]
          },
          "metadata": {
            "tags": []
          },
          "execution_count": 6
        }
      ]
    },
    {
      "cell_type": "code",
      "metadata": {
        "id": "GQUnOLgMi07n",
        "colab": {
          "base_uri": "https://localhost:8080/"
        },
        "outputId": "0d4bfd28-4345-4d60-ae89-b727a03ddbdf"
      },
      "source": [
        "def print_names(choices_array):\n",
        "  print(drop_df.iloc[choices_array])\n",
        "\n",
        "print_names(test_roll)"
      ],
      "execution_count": 7,
      "outputs": [
        {
          "output_type": "stream",
          "text": [
            "       Quantity     Value       p  TotalValue\n",
            "DustL       300  0.256800  0.3375   77.040000\n",
            "GoldL       346  0.057127  0.3375   19.765781\n",
            "GoldL       346  0.057127  0.3375   19.765781\n",
            "GoldL       346  0.057127  0.3375   19.765781\n",
            "GoldL       346  0.057127  0.3375   19.765781\n",
            "GoldL       346  0.057127  0.3375   19.765781\n",
            "GoldL       346  0.057127  0.3375   19.765781\n",
            "DustL       300  0.256800  0.3375   77.040000\n"
          ],
          "name": "stdout"
        }
      ]
    },
    {
      "cell_type": "code",
      "metadata": {
        "colab": {
          "base_uri": "https://localhost:8080/"
        },
        "id": "IHfMPHA_ieO3",
        "outputId": "c1720d02-7d63-4133-8a5d-7ce6f101cafb"
      },
      "source": [
        "def reroll_og(choices_array):\n",
        "  possible_reroll = drop_df.TotalValue[choices_array] < REROLL_COST / 2\n",
        "  if sum(possible_reroll) < 2:\n",
        "    possible_reroll[:] = False\n",
        "  return possible_reroll\n",
        "\n",
        "reroll_og(test_roll)"
      ],
      "execution_count": 8,
      "outputs": [
        {
          "output_type": "execute_result",
          "data": {
            "text/plain": [
              "DustL    False\n",
              "GoldL     True\n",
              "GoldL     True\n",
              "GoldL     True\n",
              "GoldL     True\n",
              "GoldL     True\n",
              "GoldL     True\n",
              "DustL    False\n",
              "Name: TotalValue, dtype: bool"
            ]
          },
          "metadata": {
            "tags": []
          },
          "execution_count": 8
        }
      ]
    },
    {
      "cell_type": "code",
      "metadata": {
        "id": "O358IVrPi3KH",
        "colab": {
          "base_uri": "https://localhost:8080/"
        },
        "outputId": "320b2702-873e-4e17-f3ee-51754e4a6987"
      },
      "source": [
        "def single_run(quest_no, reroll_func, init=None, debug=False):\n",
        "  keep = np.array([], dtype=np.int16)\n",
        "  reroll_count = 0\n",
        "  if init is None:\n",
        "    r = roll(quest_no)\n",
        "  else:\n",
        "    r = np.array(init)\n",
        "  while True:\n",
        "    # Reroll decision\n",
        "    re_roll = reroll_func(r)\n",
        "    if debug and np.any(re_roll):\n",
        "      print(\"*** REROLL ***\")\n",
        "      print_names(r[re_roll])\n",
        "    keep = np.append(keep, r[np.invert(re_roll)])  # Append what are kept\n",
        "    r = r[re_roll]\n",
        "    if len(r) > 0:\n",
        "      reroll_count += 1\n",
        "    else:\n",
        "      break\n",
        "    \n",
        "    ## New roll\n",
        "    r = roll(len(r))\n",
        "    if debug:\n",
        "      print(\"*** ROLL ***\")\n",
        "      print_names(r)\n",
        "  return keep, reroll_count\n",
        "\n",
        "single_run(quest_no=8, reroll_func=reroll_og, debug=True)"
      ],
      "execution_count": 9,
      "outputs": [
        {
          "output_type": "stream",
          "text": [
            "*** REROLL ***\n",
            "       Quantity     Value       p  TotalValue\n",
            "GoldL       346  0.057127  0.3375   19.765781\n",
            "GoldL       346  0.057127  0.3375   19.765781\n",
            "*** ROLL ***\n",
            "       Quantity     Value       p  TotalValue\n",
            "GoldL       346  0.057127  0.3375   19.765781\n",
            "GoldL       346  0.057127  0.3375   19.765781\n",
            "*** REROLL ***\n",
            "       Quantity     Value       p  TotalValue\n",
            "GoldL       346  0.057127  0.3375   19.765781\n",
            "GoldL       346  0.057127  0.3375   19.765781\n",
            "*** ROLL ***\n",
            "          Quantity   Value       p  TotalValue\n",
            "DustL          300  0.2568  0.3375       77.04\n",
            "DiamondM       200  1.0000  0.0100      200.00\n"
          ],
          "name": "stdout"
        },
        {
          "output_type": "execute_result",
          "data": {
            "text/plain": [
              "(array([ 2,  6,  9,  9,  1, 10,  0, 10]), 2)"
            ]
          },
          "metadata": {
            "tags": []
          },
          "execution_count": 9
        }
      ]
    },
    {
      "cell_type": "code",
      "metadata": {
        "id": "U9vpary-i6Fv"
      },
      "source": [
        "def simulate(repeat, reroll_func, init=None, quest_no=8):\n",
        "  quests = []\n",
        "  rerolls = []\n",
        "  values = []\n",
        "  for _ in tqdm(range(repeat)):\n",
        "    _quests, _reroll = single_run(quest_no, reroll_func=reroll_func, init=init)\n",
        "    quests.append(_quests)\n",
        "    rerolls.append(_reroll)\n",
        "    values.append(calculate_value(_quests) - REROLL_COST * _reroll)\n",
        "  return np.array(quests), np.array(rerolls), np.array(values)\n",
        "\n",
        "# q, r, v = simulate(repeat=1000, reroll_func=reroll_og)\n",
        "# print(np.mean(v))"
      ],
      "execution_count": 10,
      "outputs": []
    },
    {
      "cell_type": "code",
      "metadata": {
        "colab": {
          "base_uri": "https://localhost:8080/"
        },
        "id": "otu1ll5hfjZg",
        "outputId": "187cdbf2-37e3-4dfe-8f34-360ba92233a2"
      },
      "source": [
        "SINGLE_EV"
      ],
      "execution_count": 11,
      "outputs": [
        {
          "output_type": "execute_result",
          "data": {
            "text/plain": [
              "71.4208030848329"
            ]
          },
          "metadata": {
            "tags": []
          },
          "execution_count": 11
        }
      ]
    },
    {
      "cell_type": "code",
      "metadata": {
        "colab": {
          "base_uri": "https://localhost:8080/"
        },
        "id": "TeKFgD3gORsa",
        "outputId": "7d13f15a-4138-4876-fe76-9a010c3f3b1b"
      },
      "source": [
        "def reroll_from_magic_number(choices_array):\n",
        "  magic_number = magic_number_dict[MULTIPLE]\n",
        "  value_array = drop_df.TotalValue[choices_array]\n",
        "  # print(value_array)\n",
        "  for j in range(len(choices_array), 0, -1):\n",
        "    ev_j = magic_number[j - 1]\n",
        "    # print(j, ev_j, np.sum(value_array < ev_j))\n",
        "    if np.sum(value_array < ev_j) == j:\n",
        "      # print(np.sum(np.maximum(ev_j - value_array, 0)) - REROLL_COST)\n",
        "      if np.sum(np.maximum(ev_j - value_array, 0)) - REROLL_COST > 0:\n",
        "        return value_array < ev_j\n",
        "      else:\n",
        "        return np.full_like(choices_array, fill_value=False, dtype=bool)\n",
        "  return np.full_like(choices_array, fill_value=False, dtype=bool)\n",
        "\n",
        "# init_board = [5, 0, 0, 0, 0, 0, 0, 0, 0]\n",
        "# quest_no = len(init_board)\n",
        "quest_no = 10\n",
        "magic_number = magic_number_dict[MULTIPLE]\n",
        "# _, _, v = simulate(repeat=1000, reroll_func=reroll_from_magic_number, init=init_board, quest_no=quest_no)\n",
        "# single_run(quest_no=initial_quest_no, reroll_func=reroll_from_magic_number, debug=True)\n",
        "q, r, v = simulate(repeat=1, reroll_func=reroll_from_magic_number, quest_no=quest_no)\n",
        "print()\n",
        "print(np.mean(v), np.std(v), np.mean(r))\n",
        "print(magic_number[quest_no - 1] * quest_no)\n",
        "# print(\"Base\", calculate_value(init_board))"
      ],
      "execution_count": 12,
      "outputs": [
        {
          "output_type": "stream",
          "text": [
            "100%|██████████| 1/1 [00:00<00:00, 41.45it/s]"
          ],
          "name": "stderr"
        },
        {
          "output_type": "stream",
          "text": [
            "\n",
            "1095.6799999999998 0.0 12.0\n",
            "714.208\n"
          ],
          "name": "stdout"
        },
        {
          "output_type": "stream",
          "text": [
            "\n"
          ],
          "name": "stderr"
        }
      ]
    },
    {
      "cell_type": "code",
      "metadata": {
        "colab": {
          "base_uri": "https://localhost:8080/"
        },
        "id": "EfT-0R1geHDB",
        "outputId": "b0db9495-b8e2-4761-aeec-75977886f831"
      },
      "source": [
        "_q = [0, 3, 3, 3, 3, 3, 9, 9, 9, 9]\n",
        "print_names(_q)\n",
        "print(\"Reroll decision\")\n",
        "print(reroll_from_magic_number(_q))"
      ],
      "execution_count": 13,
      "outputs": [
        {
          "output_type": "stream",
          "text": [
            "          Quantity     Value       p  TotalValue\n",
            "DustL          300  0.256800  0.3375   77.040000\n",
            "GoldL          346  0.057127  0.3375   19.765781\n",
            "GoldL          346  0.057127  0.3375   19.765781\n",
            "GoldL          346  0.057127  0.3375   19.765781\n",
            "GoldL          346  0.057127  0.3375   19.765781\n",
            "GoldL          346  0.057127  0.3375   19.765781\n",
            "DiamondL       120  1.000000  0.1125  120.000000\n",
            "DiamondL       120  1.000000  0.1125  120.000000\n",
            "DiamondL       120  1.000000  0.1125  120.000000\n",
            "DiamondL       120  1.000000  0.1125  120.000000\n",
            "Reroll decision\n",
            "DustL        True\n",
            "GoldL        True\n",
            "GoldL        True\n",
            "GoldL        True\n",
            "GoldL        True\n",
            "GoldL        True\n",
            "DiamondL    False\n",
            "DiamondL    False\n",
            "DiamondL    False\n",
            "DiamondL    False\n",
            "Name: TotalValue, dtype: bool\n"
          ],
          "name": "stdout"
        }
      ]
    },
    {
      "cell_type": "code",
      "metadata": {
        "colab": {
          "base_uri": "https://localhost:8080/"
        },
        "id": "F6xVbv_3P3mh",
        "outputId": "dbc32dee-79e9-470d-b936-8124d350623e"
      },
      "source": [
        "def array_reroll_from_magic_number(choices_matrix):\n",
        "  # Dispatched quests are labeled -1\n",
        "  magic_number = magic_number_dict[MULTIPLE]\n",
        "  can_reroll = choices_matrix >= 0\n",
        "  can_reroll_count = np.sum(can_reroll, axis=1)\n",
        "  reroll_decision = np.full_like(choices_matrix, fill_value=False, dtype=bool)\n",
        "  value_matrix = np.full_like(choices_matrix, fill_value=magic_number[-1], dtype=np.float32)\n",
        "  value_matrix[can_reroll] = drop_df.TotalValue[choices_matrix[can_reroll]]\n",
        "  for j in range(choices_matrix.shape[1], 0, -1):\n",
        "    ev_j = magic_number[j - 1]\n",
        "    z3_m = value_matrix < ev_j\n",
        "    a = np.sum(z3_m, axis=1)\n",
        "    reroll_contender = a == j\n",
        "    should_reroll = np.sum(np.maximum(0, ev_j - value_matrix[reroll_contender, :]), axis=1) > REROLL_COST\n",
        "    to_reroll = np.where(reroll_contender)[0][should_reroll]\n",
        "    reroll_decision[to_reroll] = z3_m[to_reroll]\n",
        "    value_matrix[to_reroll] = magic_number[-1]\n",
        "  return reroll_decision\n",
        "\n",
        "array_reroll_from_magic_number(roll((10, 9)))"
      ],
      "execution_count": 14,
      "outputs": [
        {
          "output_type": "execute_result",
          "data": {
            "text/plain": [
              "array([[ True,  True,  True,  True, False,  True,  True,  True,  True],\n",
              "       [False,  True,  True,  True, False,  True,  True, False, False],\n",
              "       [False,  True,  True,  True,  True, False,  True,  True, False],\n",
              "       [ True,  True,  True,  True, False,  True,  True,  True,  True],\n",
              "       [False,  True, False, False,  True,  True,  True,  True,  True],\n",
              "       [ True,  True,  True,  True,  True,  True, False,  True,  True],\n",
              "       [False,  True,  True,  True,  True, False,  True,  True,  True],\n",
              "       [ True,  True,  True,  True,  True,  True,  True,  True, False],\n",
              "       [ True,  True,  True,  True,  True, False, False,  True,  True],\n",
              "       [ True,  True,  True,  True, False,  True,  True,  True, False]])"
            ]
          },
          "metadata": {
            "tags": []
          },
          "execution_count": 14
        }
      ]
    },
    {
      "cell_type": "code",
      "metadata": {
        "colab": {
          "base_uri": "https://localhost:8080/"
        },
        "id": "bKtthJCJakOU",
        "outputId": "906c395d-d90f-49ef-a832-165f0b7b219a"
      },
      "source": [
        "def batch_run(quest_no, batch_size, reroll_func):\n",
        "  keep = np.full((batch_size, quest_no), fill_value=False, dtype=bool)\n",
        "  quests = np.zeros((batch_size, quest_no), dtype=int)\n",
        "  reroll_count = np.zeros(batch_size, dtype=int)\n",
        "  r = np.zeros((batch_size, quest_no), dtype=int)\n",
        "  while True:\n",
        "    to_roll = np.invert(keep)\n",
        "    # r[to_roll] = roll((batch_size, quest_no))[to_roll]\n",
        "    r[to_roll] = roll(np.sum(to_roll))\n",
        "    r[keep] = -1  # Change index of quests that were kept to -1\n",
        "    # Reroll decision\n",
        "    re_roll = reroll_func(r)\n",
        "    new_keep = np.logical_xor(keep, np.invert(re_roll))\n",
        "    quests[new_keep] = r[new_keep]  # Cache quests that are kept\n",
        "    keep = np.logical_or(keep, new_keep)  # Update what are kept\n",
        "    reroll_count += (np.sum(re_roll, axis=1) > 0)\n",
        "    if np.all(keep):\n",
        "      break\n",
        "  return quests, reroll_count\n",
        "\n",
        "batch_run(9, 10000, array_reroll_from_magic_number)"
      ],
      "execution_count": 15,
      "outputs": [
        {
          "output_type": "execute_result",
          "data": {
            "text/plain": [
              "(array([[ 0,  0,  0, ...,  3,  6,  0],\n",
              "        [ 6,  0,  6, ..., -1,  9,  0],\n",
              "        [ 6,  3,  6, ...,  1,  3,  3],\n",
              "        ...,\n",
              "        [-1,  3, -1, ..., -1,  0,  6],\n",
              "        [-1, -1, -1, ...,  6,  0,  0],\n",
              "        [ 9, -1, -1, ...,  1,  9,  0]]), array([0, 2, 1, ..., 2, 4, 3]))"
            ]
          },
          "metadata": {
            "tags": []
          },
          "execution_count": 15
        }
      ]
    },
    {
      "cell_type": "code",
      "metadata": {
        "colab": {
          "base_uri": "https://localhost:8080/"
        },
        "id": "kepSCe-sexuy",
        "outputId": "83080cc0-ff5f-4e61-d713-2a1f7606f2cf"
      },
      "source": [
        "def simulate_batch(repeat, reroll_func, quest_no=9):\n",
        "  quests = np.array([], dtype=int).reshape(0, quest_no)\n",
        "  rerolls = np.array([], dtype=int)\n",
        "  values = []\n",
        "  bs = 30000\n",
        "  remain = repeat\n",
        "  for _ in tqdm(range(repeat // bs + 1)):\n",
        "    _bs = min(bs, remain)\n",
        "    remain -= _bs\n",
        "    _quests, _reroll = batch_run(quest_no, _bs, reroll_func=reroll_func)\n",
        "    quests = np.concatenate((quests, _quests), axis=0)\n",
        "    rerolls = np.concatenate((rerolls, _reroll), axis=0)\n",
        "  return quests, rerolls\n",
        "\n",
        "quest_no = 10\n",
        "q, r = simulate_batch(1000000, array_reroll_from_magic_number, quest_no=quest_no)\n",
        "v = np.sum(quests_to_values(q), axis=1) - REROLL_COST * r\n",
        "print()\n",
        "print(np.mean(v), np.std(v), np.mean(r))\n",
        "print(magic_number[quest_no - 1] * quest_no)"
      ],
      "execution_count": 16,
      "outputs": [
        {
          "output_type": "stream",
          "text": [
            "100%|██████████| 34/34 [00:06<00:00,  5.23it/s]\n"
          ],
          "name": "stderr"
        },
        {
          "output_type": "stream",
          "text": [
            "\n",
            "880.3933106251694 426.6574061559679 0.83858\n",
            "714.208\n"
          ],
          "name": "stdout"
        }
      ]
    },
    {
      "cell_type": "code",
      "metadata": {
        "colab": {
          "base_uri": "https://localhost:8080/"
        },
        "id": "-1cPmKauInqj",
        "outputId": "1c4e0e92-74ec-451c-9fff-f5d9d4aec495"
      },
      "source": [
        "print(q.shape)\n",
        "\n",
        "print(\"Quest Distribution\")\n",
        "dust = np.logical_and(q >= 0, q <= 2)\n",
        "print(\"Dust\", np.sum(dust))\n",
        "\n",
        "blue = np.logical_and(q >= 6, q <= 8)\n",
        "print(\"Blue\", np.sum(blue))\n",
        "\n",
        "gold = np.logical_and(q >= 3, q <= 5)\n",
        "print(\"Gold\", np.sum(gold))\n",
        "\n",
        "diamond = np.logical_and(q >= 9, q <= 11)\n",
        "print(\"Diamond\", np.sum(diamond))"
      ],
      "execution_count": 17,
      "outputs": [
        {
          "output_type": "stream",
          "text": [
            "(1000000, 10)\n",
            "Quest Distribution\n",
            "Dust 3474934\n",
            "Blue 1159125\n",
            "Gold 3242827\n",
            "Diamond 1397866\n"
          ],
          "name": "stdout"
        }
      ]
    },
    {
      "cell_type": "code",
      "metadata": {
        "colab": {
          "base_uri": "https://localhost:8080/",
          "height": 285
        },
        "id": "8bj6iAYw2ztb",
        "outputId": "85f53c24-ba60-4f84-f83c-16b8dc26ac79"
      },
      "source": [
        "plt.hist(r, bins=np.arange(np.max(r)))\n",
        "print(\"Average amount of reroll\", np.mean(r))"
      ],
      "execution_count": 18,
      "outputs": [
        {
          "output_type": "stream",
          "text": [
            "Average amount of reroll 0.83858\n"
          ],
          "name": "stdout"
        },
        {
          "output_type": "display_data",
          "data": {
            "image/png": "[encoded data removed]",
            "text/plain": [
              "<Figure size 432x288 with 1 Axes>"
            ]
          },
          "metadata": {
            "tags": [],
            "needs_background": "light"
          }
        }
      ]
    },
    {
      "cell_type": "code",
      "metadata": {
        "colab": {
          "base_uri": "https://localhost:8080/",
          "height": 285
        },
        "id": "0zDFEshs9ZTl",
        "outputId": "8f399426-9ebf-430e-93ca-23d98a4b76a9"
      },
      "source": [
        "amt = drop_df.Quantity[q.flatten()].to_numpy().reshape(-1, quest_no)\n",
        "amt[np.invert(np.logical_and(q >= 9, q <= 11))] = 0\n",
        "diamond_exp = np.sum(amt, axis=1) - r * REROLL_COST\n",
        "plt.hist(diamond_exp)\n",
        "print(np.mean(diamond_exp))"
      ],
      "execution_count": 19,
      "outputs": [
        {
          "output_type": "stream",
          "text": [
            "139.78124\n"
          ],
          "name": "stdout"
        },
        {
          "output_type": "display_data",
          "data": {
            "image/png": "[encoded data removed]",
            "text/plain": [
              "<Figure size 432x288 with 1 Axes>"
            ]
          },
          "metadata": {
            "tags": [],
            "needs_background": "light"
          }
        }
      ]
    },
    {
      "cell_type": "code",
      "metadata": {
        "colab": {
          "base_uri": "https://localhost:8080/",
          "height": 285
        },
        "id": "9zwH6P1jtSjH",
        "outputId": "a7b27ccf-1310-4c8e-fbe6-c54e1c485d70"
      },
      "source": [
        "base_q = roll((10000, quest_no))\n",
        "base_amt = drop_df.Quantity[base_q.flatten()].to_numpy().reshape(-1, quest_no)\n",
        "base_amt[np.invert(np.logical_and(base_q >= 9, base_q <= 11))] = 0\n",
        "base_diamond_exp = np.sum(base_amt, axis=1)\n",
        "plt.hist(base_diamond_exp)\n",
        "print(np.mean(base_diamond_exp))"
      ],
      "execution_count": 20,
      "outputs": [
        {
          "output_type": "stream",
          "text": [
            "162.586\n"
          ],
          "name": "stdout"
        },
        {
          "output_type": "display_data",
          "data": {
            "image/png": "[encoded data removed]",
            "text/plain": [
              "<Figure size 432x288 with 1 Axes>"
            ]
          },
          "metadata": {
            "tags": [],
            "needs_background": "light"
          }
        }
      ]
    },
    {
      "cell_type": "code",
      "metadata": {
        "colab": {
          "base_uri": "https://localhost:8080/",
          "height": 385
        },
        "id": "cLFgGr4FMxE5",
        "outputId": "d6a29505-44a1-4f82-a59b-7b7b0132101a"
      },
      "source": [
        "plt.hist(v)"
      ],
      "execution_count": 21,
      "outputs": [
        {
          "output_type": "execute_result",
          "data": {
            "text/plain": [
              "(array([2.54241e+05, 3.89650e+05, 1.51066e+05, 8.76270e+04, 5.51840e+04,\n",
              "        3.17360e+04, 1.67450e+04, 1.28890e+04, 8.47000e+02, 1.50000e+01]),\n",
              " array([ 305.16624964,  587.91362468,  870.66099971, 1153.40837475,\n",
              "        1436.15574979, 1718.90312482, 2001.65049986, 2284.39787489,\n",
              "        2567.14524993, 2849.89262496, 3132.64      ]),\n",
              " <a list of 10 Patch objects>)"
            ]
          },
          "metadata": {
            "tags": []
          },
          "execution_count": 21
        },
        {
          "output_type": "display_data",
          "data": {
            "image/png": "[encoded data removed]",
            "text/plain": [
              "<Figure size 432x288 with 1 Axes>"
            ]
          },
          "metadata": {
            "tags": [],
            "needs_background": "light"
          }
        }
      ]
    },
    {
      "cell_type": "code",
      "metadata": {
        "id": "Qv3Ns3TzpeDW"
      },
      "source": [
        "def z_reroll(e, z, k, ev1, i):\n",
        "  ev2 = np.append(ev1, e)\n",
        "  z2 = z[(i - 1) * k: i * k]\n",
        "  for j in range(k, 1, -1):\n",
        "    z3 = z2[z2 < ev2[j - 1]]\n",
        "    a = len(z3)\n",
        "    if a == j:\n",
        "      return np.sum(z2) + max(0, a * ev2[j - 1] - np.sum(z3) - REROLL_COST)\n",
        "  return np.sum(z2)"
      ],
      "execution_count": 22,
      "outputs": []
    },
    {
      "cell_type": "code",
      "metadata": {
        "id": "oaMIccH8sG9u"
      },
      "source": [
        "def evgk(m, mm, k, ev1):\n",
        "  e1 = np.max(ev1)\n",
        "  e2 = np.max(drop_df.TotalValue)\n",
        "  n = 1\n",
        "  while True:\n",
        "    s1 = []\n",
        "    s2 = []\n",
        "    n = min(mm, max(10, 100 * int(1000.0 / abs(e2 - e1))))\n",
        "    for i in range(1, round(n)):\n",
        "      z = np.random.choice(drop_df.TotalValue, 2 * k, p=drop_df.p)\n",
        "      s1.append(z_reroll(e1, z, k, ev1, 1))\n",
        "      s2.append(z_reroll(e2, z, k, ev1, 2))\n",
        "    e1 = np.mean(s1) / k\n",
        "    e2 = np.mean(s2) / k\n",
        "    std1 = np.std(s1) / np.sqrt(k)\n",
        "    std2 = np.std(s2) / np.sqrt(k)\n",
        "    print(e1, e2, std1, std2, n)\n",
        "    if (std1 + std2) / np.abs(e1 - e2) > 1000:\n",
        "      break\n",
        "  return np.append(ev1, (e1 + e2) / 2)"
      ],
      "execution_count": 23,
      "outputs": []
    },
    {
      "cell_type": "code",
      "metadata": {
        "id": "gofaW50boo7a"
      },
      "source": [
        "def array_reroll(e, z, k, ev1, i):\n",
        "  ev2 = np.append(ev1, e)\n",
        "  z2 = z[:, (i - 1) * k: i * k]\n",
        "  z2 = np.copy(z2)\n",
        "  z2_sum = np.sum(z2, axis=1)\n",
        "  for j in range(k, 1, -1):\n",
        "    ev_j = ev2[j - 1]\n",
        "    z3_m = z2 < ev_j\n",
        "    a = np.sum(z3_m, axis=1)\n",
        "\n",
        "    reroll_contender = a == j\n",
        "    z2_sum[reroll_contender] += np.maximum(np.sum(np.maximum(0, ev_j - z2[reroll_contender, :]), axis=1) - REROLL_COST, 0)\n",
        "    z2[reroll_contender, :] = np.maximum(z2[reroll_contender, :], ev_j)\n",
        "  return z2_sum\n",
        "\n",
        "def array_evgk(m, mm, k, ev1):\n",
        "  e1 = np.max(ev1)\n",
        "  e2 = np.max(drop_df.TotalValue)\n",
        "  n = 1\n",
        "  batch_size = 100000\n",
        "  diff_hist = [np.log(e2 - e1)]\n",
        "  while True:\n",
        "    s1 = np.array([])\n",
        "    s2 = np.array([])\n",
        "    n = min(mm, max(10, int(1000 * 1000.0 / abs(e2 - e1))))\n",
        "    for i in range(1, round(n / batch_size) + 2):\n",
        "      z = np.random.choice(drop_df.TotalValue, (batch_size, 2 * k), p=drop_df.p)\n",
        "      s1 = np.append(s1, array_reroll(e1, z, k, ev1, 1))\n",
        "      s2 = np.append(s2, array_reroll(e2, z, k, ev1, 2))\n",
        "    e1 = np.mean(s1) / k\n",
        "    e2 = np.mean(s2) / k\n",
        "    std1 = np.std(s1) / np.sqrt(k)\n",
        "    std2 = np.std(s2) / np.sqrt(k)\n",
        "\n",
        "    print(e1, e2, std1, std2, len(s1))\n",
        "    # break\n",
        "    if ((std1 + std2) / np.abs(e1 - e2)) > 1000:\n",
        "      break\n",
        "    diff = np.abs(np.log(e2 / e1))\n",
        "    diff_hist.append(diff)\n",
        "    if diff_hist[-2] - diff < 0.01:\n",
        "      e1 = min(e1, e2) * np.exp(diff / 10)\n",
        "      e2 = max(e1, e2) * np.exp(-diff / 10)\n",
        "      print(\"NUDGED\")\n",
        "  ev2 = min(e1, e2)\n",
        "  # ev2 = (e1 + e2) / 2.0\n",
        "  return np.append(ev1, ev2)"
      ],
      "execution_count": 24,
      "outputs": []
    },
    {
      "cell_type": "code",
      "metadata": {
        "id": "k91TImG3tz4P"
      },
      "source": [
        "def evgg(m, mm, n, ev1=None):\n",
        "  if ev1 is None:\n",
        "    ev1 = np.array([SINGLE_EV])\n",
        "  else:\n",
        "    ev1 = np.array(ev1)\n",
        "  start = len(ev1) + 1\n",
        "  for i in range(start, n + 1):\n",
        "    # ev1 = evgk(m, mm, i, ev1)\n",
        "    ev1 = array_evgk(m, mm, i, ev1)\n",
        "    print(ev1)\n",
        "  return ev1"
      ],
      "execution_count": 25,
      "outputs": []
    },
    {
      "cell_type": "code",
      "metadata": {
        "id": "-093dfpQuHAe"
      },
      "source": [
        "# magic_number = evgg(1, 10000000, 10)"
      ],
      "execution_count": 26,
      "outputs": []
    }
  ]
}